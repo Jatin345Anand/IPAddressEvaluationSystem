{
 "cells": [
  {
   "cell_type": "code",
   "execution_count": 3,
   "metadata": {},
   "outputs": [],
   "source": [
    "import path,os"
   ]
  },
  {
   "cell_type": "code",
   "execution_count": 9,
   "metadata": {},
   "outputs": [],
   "source": [
    "# os.mkdir()\n",
    "os.removedirs('C:\\ABC')"
   ]
  },
  {
   "cell_type": "code",
   "execution_count": 10,
   "metadata": {},
   "outputs": [
    {
     "data": {
      "text/plain": [
       "'nt'"
      ]
     },
     "execution_count": 10,
     "metadata": {},
     "output_type": "execute_result"
    }
   ],
   "source": [
    "os.name"
   ]
  },
  {
   "cell_type": "code",
   "execution_count": 14,
   "metadata": {},
   "outputs": [
    {
     "data": {
      "text/plain": [
       "['.ipynb_checkpoints',\n",
       " 'ALGORITHMPUSHDBBYXLS.ipynb',\n",
       " 'PushDBIPAddress.ipynb',\n",
       " 'Untitled.ipynb']"
      ]
     },
     "execution_count": 14,
     "metadata": {},
     "output_type": "execute_result"
    }
   ],
   "source": [
    "os.listdir('C:')"
   ]
  },
  {
   "cell_type": "code",
   "execution_count": 15,
   "metadata": {},
   "outputs": [
    {
     "data": {
      "text/plain": [
       "12932"
      ]
     },
     "execution_count": 15,
     "metadata": {},
     "output_type": "execute_result"
    }
   ],
   "source": [
    "os.getpid()"
   ]
  },
  {
   "cell_type": "code",
   "execution_count": 16,
   "metadata": {},
   "outputs": [
    {
     "data": {
      "text/plain": [
       "'jatin.anand'"
      ]
     },
     "execution_count": 16,
     "metadata": {},
     "output_type": "execute_result"
    }
   ],
   "source": [
    "os.getlogin()\n"
   ]
  },
  {
   "cell_type": "code",
   "execution_count": 17,
   "metadata": {},
   "outputs": [
    {
     "name": "stderr",
     "output_type": "stream",
     "text": [
      "C:\\Users\\jatin.anand\\Anaconda3\\lib\\site-packages\\ipykernel_launcher.py:1: DeprecationWarning: The Windows bytes API has been deprecated, use Unicode filenames instead\n",
      "  \"\"\"Entry point for launching an IPython kernel.\n"
     ]
    },
    {
     "data": {
      "text/plain": [
       "b'C:\\\\Users\\\\jatin.anand\\\\Documents\\\\JupyterJune'"
      ]
     },
     "execution_count": 17,
     "metadata": {},
     "output_type": "execute_result"
    }
   ],
   "source": [
    "os.getcwdb()"
   ]
  },
  {
   "cell_type": "code",
   "execution_count": 43,
   "metadata": {},
   "outputs": [],
   "source": [
    "def CreateBSON(DB,L,KEYS):\n",
    "    ipDIC={}\n",
    "    for i in range(1,len(L)):\n",
    "        ipDIC.update({KEYS[i-1]:L[i]})\n",
    "    DB.insert_one(ipDIC)\n",
    "    return 'done'\n",
    "def PudhDBByXLS(path):\n",
    "    import pymongo\n",
    "    import pandas as pd\n",
    "    import xlrd\n",
    "    DF = pd.read_excel(path);\n",
    "    KEYS = list(DF.columns)\n",
    "    KEYS.pop(0)\n",
    "    workBook = xlrd.open_workbook(path)\n",
    "    Sheet = workBook.sheet_by_index(0)\n",
    "    ROWS = Sheet.nrows\n",
    "    COLUMNS = Sheet.ncols\n",
    "    LLforBson =[]\n",
    "    for i in range(1,ROWS):\n",
    "        LLforBson.append(Sheet.row_values(i))\n",
    "    import pymongo\n",
    "    from pymongo import MongoClient\n",
    "    Client  =pymongo.MongoClient('localhost',27017)\n",
    "    IPdb = Client.ipevalsystemdb\n",
    "    ipinfos = IPdb.ipadresses\n",
    "    ipdic ={}\n",
    "    for i in LLforBson:\n",
    "        CreateBSON(ipinfos,i,KEYS)\n",
    "    return 'done'"
   ]
  },
  {
   "cell_type": "code",
   "execution_count": null,
   "metadata": {},
   "outputs": [],
   "source": [
    "LL=[]\n",
    "# path = \"\"\"C:\\\\\\ip4b\\\\\\\"\"\"\n",
    "path='C:\\ip4b'\n",
    "for i in os.listdir(path):\n",
    "    PudhDBByXLS(os.path.join(path, i))"
   ]
  },
  {
   "cell_type": "code",
   "execution_count": null,
   "metadata": {},
   "outputs": [],
   "source": []
  },
  {
   "cell_type": "code",
   "execution_count": null,
   "metadata": {},
   "outputs": [],
   "source": []
  }
 ],
 "metadata": {
  "kernelspec": {
   "display_name": "Python 3",
   "language": "python",
   "name": "python3"
  },
  "language_info": {
   "codemirror_mode": {
    "name": "ipython",
    "version": 3
   },
   "file_extension": ".py",
   "mimetype": "text/x-python",
   "name": "python",
   "nbconvert_exporter": "python",
   "pygments_lexer": "ipython3",
   "version": "3.7.3"
  }
 },
 "nbformat": 4,
 "nbformat_minor": 2
}
