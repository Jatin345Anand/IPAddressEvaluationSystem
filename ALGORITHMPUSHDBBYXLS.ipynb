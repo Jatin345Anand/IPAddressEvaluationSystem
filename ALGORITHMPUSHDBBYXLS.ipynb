{
 "cells": [
  {
   "cell_type": "code",
   "execution_count": 1,
   "metadata": {},
   "outputs": [],
   "source": [
    "def CreateBSON(DB,L,KEYS):\n",
    "    ipDIC={}\n",
    "    for i in range(1,len(L)):\n",
    "        ipDIC.update({KEYS[i-1]:L[i]})\n",
    "    DB.insert_one(ipDIC)\n",
    "    return 'done'\n",
    "def PudhDBByXLS(path):\n",
    "    import pymongo\n",
    "    import pandas as pd\n",
    "    import xlrd\n",
    "    DF = pd.read_excel(path);\n",
    "    KEYS = list(DF.columns)\n",
    "    KEYS.pop(0)\n",
    "    workBook = xlrd.open_workbook(path)\n",
    "    Sheet = workBook.sheet_by_index(0)\n",
    "    ROWS = Sheet.nrows\n",
    "    COLUMNS = Sheet.ncols\n",
    "    LLforBson =[]\n",
    "    for i in range(1,ROWS):\n",
    "        LLforBson.append(Sheet.row_values(i))\n",
    "    import pymongo\n",
    "    from pymongo import MongoClient\n",
    "    Client  =pymongo.MongoClient('localhost',27017)\n",
    "    IPdb = Client.ipevalsystemdb\n",
    "    ipinfos = IPdb.ipadresses\n",
    "    ipdic ={}\n",
    "    for i in LLforBson:\n",
    "        CreateBSON(ipinfos,i,KEYS)\n",
    "    return 'done'"
   ]
  },
  {
   "cell_type": "code",
   "execution_count": 2,
   "metadata": {},
   "outputs": [
    {
     "name": "stdout",
     "output_type": "stream",
     "text": [
      "C:\\IPsXLS\\ipxls2.xls\n",
      "C:\\IPsXLS\\ipxls3.xls\n",
      "C:\\IPsXLS\\ipxls4.xls\n"
     ]
    }
   ],
   "source": [
    "s=[2,3,4]\n",
    "for i in s:\n",
    "    path=\"C:\\IPsXLS\\ipxls\"+str(i)+\".xls\"\n",
    "    print(path)\n",
    "    \n",
    "Path = \"C:\\IPsXLS\\ipxls2.xls\""
   ]
  },
  {
   "cell_type": "code",
   "execution_count": null,
   "metadata": {},
   "outputs": [],
   "source": [
    "for i in range(3050,4550):\n",
    "#     path = \"C:\\Users\\jatin.anand\\Downloads\\IP3Files-20190708T055456Z-001.zip\\IP3Files\\ipxls\"+str(i)+\".xls\"\n",
    "    path=\"C:\\ip4c\\ipxls\"+str(i)+\".xls\"\n",
    "    PudhDBByXLS(path)\n",
    "    "
   ]
  },
  {
   "cell_type": "code",
   "execution_count": null,
   "metadata": {},
   "outputs": [],
   "source": []
  }
 ],
 "metadata": {
  "kernelspec": {
   "display_name": "Python 3",
   "language": "python",
   "name": "python3"
  },
  "language_info": {
   "codemirror_mode": {
    "name": "ipython",
    "version": 3
   },
   "file_extension": ".py",
   "mimetype": "text/x-python",
   "name": "python",
   "nbconvert_exporter": "python",
   "pygments_lexer": "ipython3",
   "version": "3.7.3"
  }
 },
 "nbformat": 4,
 "nbformat_minor": 2
}
